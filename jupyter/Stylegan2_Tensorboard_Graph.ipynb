{
 "cells": [
  {
   "cell_type": "markdown",
   "metadata": {},
   "source": [
    "# StyleGAN2 Tensorboard Graph"
   ]
  },
  {
   "cell_type": "code",
   "execution_count": 1,
   "metadata": {},
   "outputs": [
    {
     "data": {
      "text/plain": [
       "'1.14.0'"
      ]
     },
     "execution_count": 1,
     "metadata": {},
     "output_type": "execute_result"
    }
   ],
   "source": [
    "import sys\n",
    "from warnings import simplefilter\n",
    "simplefilter(action='ignore', category=FutureWarning)\n",
    "import subprocess as sp\n",
    "import time\n",
    "\n",
    "import os.path as osp\n",
    "import shutil\n",
    "import pickle\n",
    "import numpy as np\n",
    "import tensorflow as tf\n",
    "\n",
    "sys.path.append(osp.abspath(\"..\"))\n",
    "import dnnlib\n",
    "from dnnlib import tflib\n",
    "    \n",
    "tf.__version__"
   ]
  },
  {
   "cell_type": "code",
   "execution_count": 2,
   "metadata": {},
   "outputs": [
    {
     "data": {
      "text/plain": [
       "True"
      ]
     },
     "execution_count": 2,
     "metadata": {},
     "output_type": "execute_result"
    }
   ],
   "source": [
    "tfpkl= osp.abspath(\"../networks/stylegan2-ffhq-config-f.pkl\")\n",
    "osp.isfile(tfpkl)"
   ]
  },
  {
   "cell_type": "code",
   "execution_count": 3,
   "metadata": {},
   "outputs": [
    {
     "name": "stdout",
     "output_type": "stream",
     "text": [
      "Setting up TensorFlow plugin \"fused_bias_act.cu\": Preprocessing... Loading... Done.\n",
      "Setting up TensorFlow plugin \"upfirdn_2d.cu\": Preprocessing... Loading... Done.\n"
     ]
    }
   ],
   "source": [
    "sess = tflib.init_tf()\n",
    "with open(tfpkl, 'rb') as fi:\n",
    "    generator, discriminator, g_ema = pickle.load(fi)"
   ]
  },
  {
   "cell_type": "code",
   "execution_count": 4,
   "metadata": {},
   "outputs": [
    {
     "name": "stdout",
     "output_type": "stream",
     "text": [
      "removed graphs\n"
     ]
    }
   ],
   "source": [
    "if osp.isdir(osp.abspath('./graphs')):\n",
    "    shutil.rmtree(osp.abspath('./graphs'))\n",
    "    print(\"removed graphs\")\n",
    "writer = tf.summary.FileWriter('./graphs', sess.graph)"
   ]
  },
  {
   "cell_type": "code",
   "execution_count": 5,
   "metadata": {},
   "outputs": [],
   "source": [
    "z = np.random.RandomState(0).randn(4, 512).astype('float32')\n",
    "Gs_kwargs = dnnlib.EasyDict()\n",
    "Gs_kwargs.randomize_noise = False\n",
    "img_tf = g_ema.run(z, None, **Gs_kwargs)"
   ]
  },
  {
   "cell_type": "code",
   "execution_count": 6,
   "metadata": {},
   "outputs": [],
   "source": [
    "proc = sp.Popen(['gnome-terminal', \"-e\", \"tensorboard --logdir graphs\"], stdout=sp.PIPE)\n",
    "time.sleep(2)\n",
    "proc = sp.Popen(['firefox', 'http://localhost:6006/'], stdout=sp.PIPE)"
   ]
  }
 ],
 "metadata": {
  "kernelspec": {
   "display_name": "Python 3",
   "language": "python",
   "name": "python3"
  },
  "language_info": {
   "codemirror_mode": {
    "name": "ipython",
    "version": 3
   },
   "file_extension": ".py",
   "mimetype": "text/x-python",
   "name": "python",
   "nbconvert_exporter": "python",
   "pygments_lexer": "ipython3",
   "version": "3.6.7"
  }
 },
 "nbformat": 4,
 "nbformat_minor": 2
}
