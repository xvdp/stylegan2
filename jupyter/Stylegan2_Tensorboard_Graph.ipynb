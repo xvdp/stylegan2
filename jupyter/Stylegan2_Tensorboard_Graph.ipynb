{
 "cells": [
  {
   "cell_type": "markdown",
   "metadata": {},
   "source": [
    "# StyleGAN2 Tensorboard Graph"
   ]
  },
  {
   "cell_type": "markdown",
   "metadata": {},
   "source": [
    "* expanded and slightly formatted version of what the cells below output\n",
    "![alt text](StyleGAN2.png \"StyleGAN2 - Tensorboard\")"
   ]
  },
  {
   "cell_type": "code",
   "execution_count": 1,
   "metadata": {},
   "outputs": [
    {
     "data": {
      "text/plain": [
       "'1.14.0'"
      ]
     },
     "execution_count": 1,
     "metadata": {},
     "output_type": "execute_result"
    }
   ],
   "source": [
    "import sys\n",
    "from warnings import simplefilter\n",
    "simplefilter(action='ignore', category=FutureWarning)\n",
    "import subprocess as sp\n",
    "import time\n",
    "\n",
    "import os.path as osp\n",
    "import shutil\n",
    "import pickle\n",
    "import numpy as np\n",
    "import tensorflow as tf\n",
    "\n",
    "sys.path.append(osp.abspath(\"..\"))\n",
    "import dnnlib\n",
    "from dnnlib import tflib\n",
    "    \n",
    "tf.__version__"
   ]
  },
  {
   "cell_type": "code",
   "execution_count": 2,
   "metadata": {},
   "outputs": [
    {
     "data": {
      "text/plain": [
       "True"
      ]
     },
     "execution_count": 2,
     "metadata": {},
     "output_type": "execute_result"
    }
   ],
   "source": [
    "tfpkl= osp.abspath(\"../networks/stylegan2-ffhq-config-f.pkl\")\n",
    "osp.isfile(tfpkl)"
   ]
  },
  {
   "cell_type": "code",
   "execution_count": 3,
   "metadata": {},
   "outputs": [
    {
     "name": "stdout",
     "output_type": "stream",
     "text": [
      "Setting up TensorFlow plugin \"fused_bias_act.cu\": Preprocessing... Loading... Done.\n",
      "Setting up TensorFlow plugin \"upfirdn_2d.cu\": Preprocessing... Loading... Done.\n"
     ]
    }
   ],
   "source": [
    "sess = tflib.init_tf()\n",
    "with open(tfpkl, 'rb') as fi:\n",
    "    generator, discriminator, g_ema = pickle.load(fi)"
   ]
  },
  {
   "cell_type": "code",
   "execution_count": 4,
   "metadata": {},
   "outputs": [
    {
     "name": "stdout",
     "output_type": "stream",
     "text": [
      "removed graphs\n"
     ]
    }
   ],
   "source": [
    "if osp.isdir(osp.abspath('./graphs')):\n",
    "    shutil.rmtree(osp.abspath('./graphs'))\n",
    "    print(\"removed graphs\")\n",
    "writer = tf.summary.FileWriter('./graphs', sess.graph)"
   ]
  },
  {
   "cell_type": "code",
   "execution_count": 5,
   "metadata": {},
   "outputs": [],
   "source": [
    "z = np.random.RandomState(0).randn(4, 512).astype('float32')\n",
    "Gs_kwargs = dnnlib.EasyDict()\n",
    "Gs_kwargs.randomize_noise = False\n",
    "img_tf = g_ema.run(z, None, **Gs_kwargs)"
   ]
  },
  {
   "cell_type": "code",
   "execution_count": 6,
   "metadata": {},
   "outputs": [],
   "source": [
    "proc = sp.Popen(['gnome-terminal', \"-e\", \"tensorboard --logdir graphs\"], stdout=sp.PIPE)\n",
    "time.sleep(2)\n",
    "proc = sp.Popen(['firefox', 'http://localhost:6006/'], stdout=sp.PIPE)"
   ]
  },
  {
   "cell_type": "markdown",
   "metadata": {},
   "source": [
    "## explore network structures"
   ]
  },
  {
   "cell_type": "code",
   "execution_count": 7,
   "metadata": {},
   "outputs": [],
   "source": [
    "import metrics, pretrained_networks\n",
    "\n",
    "net = \"stylegan2-ffhq-config-f.pkl\"\n",
    "net = osp.join(osp.abspath(\"../networks\"), net)\n",
    "G, D, Gs = pretrained_networks.load_networks(net)"
   ]
  },
  {
   "cell_type": "code",
   "execution_count": 8,
   "metadata": {},
   "outputs": [
    {
     "name": "stdout",
     "output_type": "stream",
     "text": [
      "lod \t ()\n",
      "dlatent_avg \t (512,)\n",
      "G_synthesis/noise0 \t (1, 1, 4, 4)\n",
      "G_synthesis/noise1 \t (1, 1, 8, 8)\n",
      "G_synthesis/noise2 \t (1, 1, 8, 8)\n",
      "G_synthesis/noise3 \t (1, 1, 16, 16)\n",
      "G_synthesis/noise4 \t (1, 1, 16, 16)\n",
      "G_synthesis/noise5 \t (1, 1, 32, 32)\n",
      "G_synthesis/noise6 \t (1, 1, 32, 32)\n",
      "G_synthesis/noise7 \t (1, 1, 64, 64)\n",
      "G_synthesis/noise8 \t (1, 1, 64, 64)\n",
      "G_synthesis/noise9 \t (1, 1, 128, 128)\n",
      "G_synthesis/noise10 \t (1, 1, 128, 128)\n",
      "G_synthesis/noise11 \t (1, 1, 256, 256)\n",
      "G_synthesis/noise12 \t (1, 1, 256, 256)\n",
      "G_synthesis/noise13 \t (1, 1, 512, 512)\n",
      "G_synthesis/noise14 \t (1, 1, 512, 512)\n",
      "G_synthesis/noise15 \t (1, 1, 1024, 1024)\n",
      "G_synthesis/noise16 \t (1, 1, 1024, 1024)\n",
      "G_synthesis/4x4/Const/const \t (1, 512, 4, 4)\n",
      "G_synthesis/4x4/Conv/weight \t (3, 3, 512, 512)\n",
      "G_synthesis/4x4/Conv/mod_weight \t (512, 512)\n",
      "G_synthesis/4x4/Conv/mod_bias \t (512,)\n",
      "G_synthesis/4x4/Conv/noise_strength \t ()\n",
      "G_synthesis/4x4/Conv/bias \t (512,)\n",
      "G_synthesis/4x4/ToRGB/weight \t (1, 1, 512, 3)\n",
      "G_synthesis/4x4/ToRGB/mod_weight \t (512, 512)\n",
      "G_synthesis/4x4/ToRGB/mod_bias \t (512,)\n",
      "G_synthesis/4x4/ToRGB/bias \t (3,)\n",
      "G_synthesis/8x8/Conv0_up/weight \t (3, 3, 512, 512)\n",
      "G_synthesis/8x8/Conv0_up/mod_weight \t (512, 512)\n",
      "G_synthesis/8x8/Conv0_up/mod_bias \t (512,)\n",
      "G_synthesis/8x8/Conv0_up/noise_strength \t ()\n",
      "G_synthesis/8x8/Conv0_up/bias \t (512,)\n",
      "G_synthesis/8x8/Conv1/weight \t (3, 3, 512, 512)\n",
      "G_synthesis/8x8/Conv1/mod_weight \t (512, 512)\n",
      "G_synthesis/8x8/Conv1/mod_bias \t (512,)\n",
      "G_synthesis/8x8/Conv1/noise_strength \t ()\n",
      "G_synthesis/8x8/Conv1/bias \t (512,)\n",
      "G_synthesis/8x8/ToRGB/weight \t (1, 1, 512, 3)\n",
      "G_synthesis/8x8/ToRGB/mod_weight \t (512, 512)\n",
      "G_synthesis/8x8/ToRGB/mod_bias \t (512,)\n",
      "G_synthesis/8x8/ToRGB/bias \t (3,)\n",
      "G_synthesis/16x16/Conv0_up/weight \t (3, 3, 512, 512)\n",
      "G_synthesis/16x16/Conv0_up/mod_weight \t (512, 512)\n",
      "G_synthesis/16x16/Conv0_up/mod_bias \t (512,)\n",
      "G_synthesis/16x16/Conv0_up/noise_strength \t ()\n",
      "G_synthesis/16x16/Conv0_up/bias \t (512,)\n",
      "G_synthesis/16x16/Conv1/weight \t (3, 3, 512, 512)\n",
      "G_synthesis/16x16/Conv1/mod_weight \t (512, 512)\n",
      "G_synthesis/16x16/Conv1/mod_bias \t (512,)\n",
      "G_synthesis/16x16/Conv1/noise_strength \t ()\n",
      "G_synthesis/16x16/Conv1/bias \t (512,)\n",
      "G_synthesis/16x16/ToRGB/weight \t (1, 1, 512, 3)\n",
      "G_synthesis/16x16/ToRGB/mod_weight \t (512, 512)\n",
      "G_synthesis/16x16/ToRGB/mod_bias \t (512,)\n",
      "G_synthesis/16x16/ToRGB/bias \t (3,)\n",
      "G_synthesis/32x32/Conv0_up/weight \t (3, 3, 512, 512)\n",
      "G_synthesis/32x32/Conv0_up/mod_weight \t (512, 512)\n",
      "G_synthesis/32x32/Conv0_up/mod_bias \t (512,)\n",
      "G_synthesis/32x32/Conv0_up/noise_strength \t ()\n",
      "G_synthesis/32x32/Conv0_up/bias \t (512,)\n",
      "G_synthesis/32x32/Conv1/weight \t (3, 3, 512, 512)\n",
      "G_synthesis/32x32/Conv1/mod_weight \t (512, 512)\n",
      "G_synthesis/32x32/Conv1/mod_bias \t (512,)\n",
      "G_synthesis/32x32/Conv1/noise_strength \t ()\n",
      "G_synthesis/32x32/Conv1/bias \t (512,)\n",
      "G_synthesis/32x32/ToRGB/weight \t (1, 1, 512, 3)\n",
      "G_synthesis/32x32/ToRGB/mod_weight \t (512, 512)\n",
      "G_synthesis/32x32/ToRGB/mod_bias \t (512,)\n",
      "G_synthesis/32x32/ToRGB/bias \t (3,)\n",
      "G_synthesis/64x64/Conv0_up/weight \t (3, 3, 512, 512)\n",
      "G_synthesis/64x64/Conv0_up/mod_weight \t (512, 512)\n",
      "G_synthesis/64x64/Conv0_up/mod_bias \t (512,)\n",
      "G_synthesis/64x64/Conv0_up/noise_strength \t ()\n",
      "G_synthesis/64x64/Conv0_up/bias \t (512,)\n",
      "G_synthesis/64x64/Conv1/weight \t (3, 3, 512, 512)\n",
      "G_synthesis/64x64/Conv1/mod_weight \t (512, 512)\n",
      "G_synthesis/64x64/Conv1/mod_bias \t (512,)\n",
      "G_synthesis/64x64/Conv1/noise_strength \t ()\n",
      "G_synthesis/64x64/Conv1/bias \t (512,)\n",
      "G_synthesis/64x64/ToRGB/weight \t (1, 1, 512, 3)\n",
      "G_synthesis/64x64/ToRGB/mod_weight \t (512, 512)\n",
      "G_synthesis/64x64/ToRGB/mod_bias \t (512,)\n",
      "G_synthesis/64x64/ToRGB/bias \t (3,)\n",
      "G_synthesis/128x128/Conv0_up/weight \t (3, 3, 512, 256)\n",
      "G_synthesis/128x128/Conv0_up/mod_weight \t (512, 512)\n",
      "G_synthesis/128x128/Conv0_up/mod_bias \t (512,)\n",
      "G_synthesis/128x128/Conv0_up/noise_strength \t ()\n",
      "G_synthesis/128x128/Conv0_up/bias \t (256,)\n",
      "G_synthesis/128x128/Conv1/weight \t (3, 3, 256, 256)\n",
      "G_synthesis/128x128/Conv1/mod_weight \t (512, 256)\n",
      "G_synthesis/128x128/Conv1/mod_bias \t (256,)\n",
      "G_synthesis/128x128/Conv1/noise_strength \t ()\n",
      "G_synthesis/128x128/Conv1/bias \t (256,)\n",
      "G_synthesis/128x128/ToRGB/weight \t (1, 1, 256, 3)\n",
      "G_synthesis/128x128/ToRGB/mod_weight \t (512, 256)\n",
      "G_synthesis/128x128/ToRGB/mod_bias \t (256,)\n",
      "G_synthesis/128x128/ToRGB/bias \t (3,)\n",
      "G_synthesis/256x256/Conv0_up/weight \t (3, 3, 256, 128)\n",
      "G_synthesis/256x256/Conv0_up/mod_weight \t (512, 256)\n",
      "G_synthesis/256x256/Conv0_up/mod_bias \t (256,)\n",
      "G_synthesis/256x256/Conv0_up/noise_strength \t ()\n",
      "G_synthesis/256x256/Conv0_up/bias \t (128,)\n",
      "G_synthesis/256x256/Conv1/weight \t (3, 3, 128, 128)\n",
      "G_synthesis/256x256/Conv1/mod_weight \t (512, 128)\n",
      "G_synthesis/256x256/Conv1/mod_bias \t (128,)\n",
      "G_synthesis/256x256/Conv1/noise_strength \t ()\n",
      "G_synthesis/256x256/Conv1/bias \t (128,)\n",
      "G_synthesis/256x256/ToRGB/weight \t (1, 1, 128, 3)\n",
      "G_synthesis/256x256/ToRGB/mod_weight \t (512, 128)\n",
      "G_synthesis/256x256/ToRGB/mod_bias \t (128,)\n",
      "G_synthesis/256x256/ToRGB/bias \t (3,)\n",
      "G_synthesis/512x512/Conv0_up/weight \t (3, 3, 128, 64)\n",
      "G_synthesis/512x512/Conv0_up/mod_weight \t (512, 128)\n",
      "G_synthesis/512x512/Conv0_up/mod_bias \t (128,)\n",
      "G_synthesis/512x512/Conv0_up/noise_strength \t ()\n",
      "G_synthesis/512x512/Conv0_up/bias \t (64,)\n",
      "G_synthesis/512x512/Conv1/weight \t (3, 3, 64, 64)\n",
      "G_synthesis/512x512/Conv1/mod_weight \t (512, 64)\n",
      "G_synthesis/512x512/Conv1/mod_bias \t (64,)\n",
      "G_synthesis/512x512/Conv1/noise_strength \t ()\n",
      "G_synthesis/512x512/Conv1/bias \t (64,)\n",
      "G_synthesis/512x512/ToRGB/weight \t (1, 1, 64, 3)\n",
      "G_synthesis/512x512/ToRGB/mod_weight \t (512, 64)\n",
      "G_synthesis/512x512/ToRGB/mod_bias \t (64,)\n",
      "G_synthesis/512x512/ToRGB/bias \t (3,)\n",
      "G_synthesis/1024x1024/Conv0_up/weight \t (3, 3, 64, 32)\n",
      "G_synthesis/1024x1024/Conv0_up/mod_weight \t (512, 64)\n",
      "G_synthesis/1024x1024/Conv0_up/mod_bias \t (64,)\n",
      "G_synthesis/1024x1024/Conv0_up/noise_strength \t ()\n",
      "G_synthesis/1024x1024/Conv0_up/bias \t (32,)\n",
      "G_synthesis/1024x1024/Conv1/weight \t (3, 3, 32, 32)\n",
      "G_synthesis/1024x1024/Conv1/mod_weight \t (512, 32)\n",
      "G_synthesis/1024x1024/Conv1/mod_bias \t (32,)\n",
      "G_synthesis/1024x1024/Conv1/noise_strength \t ()\n",
      "G_synthesis/1024x1024/Conv1/bias \t (32,)\n",
      "G_synthesis/1024x1024/ToRGB/weight \t (1, 1, 32, 3)\n",
      "G_synthesis/1024x1024/ToRGB/mod_weight \t (512, 32)\n",
      "G_synthesis/1024x1024/ToRGB/mod_bias \t (32,)\n",
      "G_synthesis/1024x1024/ToRGB/bias \t (3,)\n",
      "G_mapping/Dense0/weight \t (512, 512)\n",
      "G_mapping/Dense0/bias \t (512,)\n",
      "G_mapping/Dense1/weight \t (512, 512)\n",
      "G_mapping/Dense1/bias \t (512,)\n",
      "G_mapping/Dense2/weight \t (512, 512)\n",
      "G_mapping/Dense2/bias \t (512,)\n",
      "G_mapping/Dense3/weight \t (512, 512)\n",
      "G_mapping/Dense3/bias \t (512,)\n",
      "G_mapping/Dense4/weight \t (512, 512)\n",
      "G_mapping/Dense4/bias \t (512,)\n",
      "G_mapping/Dense5/weight \t (512, 512)\n",
      "G_mapping/Dense5/bias \t (512,)\n",
      "G_mapping/Dense6/weight \t (512, 512)\n",
      "G_mapping/Dense6/bias \t (512,)\n",
      "G_mapping/Dense7/weight \t (512, 512)\n",
      "G_mapping/Dense7/bias \t (512,)\n"
     ]
    }
   ],
   "source": [
    "for key in Gs.vars:\n",
    "    print(key, \"\\t\", Gs.vars[key].shape)"
   ]
  },
  {
   "cell_type": "code",
   "execution_count": 9,
   "metadata": {},
   "outputs": [
    {
     "name": "stdout",
     "output_type": "stream",
     "text": [
      "1024x1024/FromRGB/weight \t (1, 1, 3, 32)\n",
      "1024x1024/FromRGB/bias \t (32,)\n",
      "1024x1024/Conv0/weight \t (3, 3, 32, 32)\n",
      "1024x1024/Conv0/bias \t (32,)\n",
      "1024x1024/Conv1_down/weight \t (3, 3, 32, 64)\n",
      "1024x1024/Conv1_down/bias \t (64,)\n",
      "1024x1024/Skip/weight \t (1, 1, 32, 64)\n",
      "512x512/Conv0/weight \t (3, 3, 64, 64)\n",
      "512x512/Conv0/bias \t (64,)\n",
      "512x512/Conv1_down/weight \t (3, 3, 64, 128)\n",
      "512x512/Conv1_down/bias \t (128,)\n",
      "512x512/Skip/weight \t (1, 1, 64, 128)\n",
      "256x256/Conv0/weight \t (3, 3, 128, 128)\n",
      "256x256/Conv0/bias \t (128,)\n",
      "256x256/Conv1_down/weight \t (3, 3, 128, 256)\n",
      "256x256/Conv1_down/bias \t (256,)\n",
      "256x256/Skip/weight \t (1, 1, 128, 256)\n",
      "128x128/Conv0/weight \t (3, 3, 256, 256)\n",
      "128x128/Conv0/bias \t (256,)\n",
      "128x128/Conv1_down/weight \t (3, 3, 256, 512)\n",
      "128x128/Conv1_down/bias \t (512,)\n",
      "128x128/Skip/weight \t (1, 1, 256, 512)\n",
      "64x64/Conv0/weight \t (3, 3, 512, 512)\n",
      "64x64/Conv0/bias \t (512,)\n",
      "64x64/Conv1_down/weight \t (3, 3, 512, 512)\n",
      "64x64/Conv1_down/bias \t (512,)\n",
      "64x64/Skip/weight \t (1, 1, 512, 512)\n",
      "32x32/Conv0/weight \t (3, 3, 512, 512)\n",
      "32x32/Conv0/bias \t (512,)\n",
      "32x32/Conv1_down/weight \t (3, 3, 512, 512)\n",
      "32x32/Conv1_down/bias \t (512,)\n",
      "32x32/Skip/weight \t (1, 1, 512, 512)\n",
      "16x16/Conv0/weight \t (3, 3, 512, 512)\n",
      "16x16/Conv0/bias \t (512,)\n",
      "16x16/Conv1_down/weight \t (3, 3, 512, 512)\n",
      "16x16/Conv1_down/bias \t (512,)\n",
      "16x16/Skip/weight \t (1, 1, 512, 512)\n",
      "8x8/Conv0/weight \t (3, 3, 512, 512)\n",
      "8x8/Conv0/bias \t (512,)\n",
      "8x8/Conv1_down/weight \t (3, 3, 512, 512)\n",
      "8x8/Conv1_down/bias \t (512,)\n",
      "8x8/Skip/weight \t (1, 1, 512, 512)\n",
      "4x4/Conv/weight \t (3, 3, 513, 512)\n",
      "4x4/Conv/bias \t (512,)\n",
      "4x4/Dense0/weight \t (8192, 512)\n",
      "4x4/Dense0/bias \t (512,)\n",
      "Output/weight \t (512, 1)\n",
      "Output/bias \t (1,)\n"
     ]
    }
   ],
   "source": [
    "for key in D.vars:\n",
    "    print(key, \"\\t\", D.vars[key].shape)"
   ]
  }
 ],
 "metadata": {
  "kernelspec": {
   "display_name": "Python 3",
   "language": "python",
   "name": "python3"
  },
  "language_info": {
   "codemirror_mode": {
    "name": "ipython",
    "version": 3
   },
   "file_extension": ".py",
   "mimetype": "text/x-python",
   "name": "python",
   "nbconvert_exporter": "python",
   "pygments_lexer": "ipython3",
   "version": "3.6.7"
  }
 },
 "nbformat": 4,
 "nbformat_minor": 2
}
